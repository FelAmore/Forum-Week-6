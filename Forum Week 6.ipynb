{
 "cells": [
  {
   "cell_type": "code",
   "execution_count": 1,
   "id": "78ff36d5",
   "metadata": {},
   "outputs": [
    {
     "name": "stdout",
     "output_type": "stream",
     "text": [
      "{'gold': 500, 'pouch': ['flint', 'twine', 'gemstone'], 'backpack': ['xylophone', 'dagger', 'bedroll', 'bread loaf'], 'Pocket': ['seashell', 'strange berry', 'lint']}\n",
      "['bedroll', 'bread loaf', 'dagger', 'xylophone']\n",
      "['bedroll', 'bread loaf', 'xylophone']\n",
      "550\n"
     ]
    }
   ],
   "source": [
    "# Q01\n",
    "inventory = {'gold':500, 'pouch':['flint', 'twine', 'gemstone'], 'backpack':['xylophone', 'dagger', 'bedroll', 'bread loaf']}\n",
    "inventory['Pocket'] = ['seashell', 'strange berry', 'lint'] #Add a key to inventory called 'pocket'\n",
    "print(inventory) # to show inventory after adding pocket\n",
    "inventory['backpack'].sort() #.sort()the items in the list stored under the 'backpack' key\n",
    "print(inventory['backpack']) # to show backpack after sorted\n",
    "inventory['backpack'].remove('dagger') #.remove('dagger') from the list of items stored under the 'backpack' key\n",
    "print(inventory['backpack']) # to show inventory after removing dagger from backpack\n",
    "inventory['gold'] += 50 #Add 50 to the number stored under the 'gold' key\n",
    "print(inventory['gold']) # to show the value under the 'gold' key after adding 50"
   ]
  },
  {
   "cell_type": "code",
   "execution_count": 3,
   "id": "857542c2",
   "metadata": {},
   "outputs": [
    {
     "name": "stdout",
     "output_type": "stream",
     "text": [
      "Banana\n",
      "price: 4\n",
      "stock: 6\n",
      "Money from selling all food: 24\n",
      "\n",
      "Apple\n",
      "price: 2\n",
      "stock: 0\n",
      "Money from selling all food: 0\n",
      "\n",
      "Orange\n",
      "price: 1.5\n",
      "stock: 32\n",
      "Money from selling all food: 48.0\n",
      "\n",
      "Pear\n",
      "price: 3\n",
      "stock: 15\n",
      "Money from selling all food: 45\n",
      "\n",
      "Total: 117.0\n"
     ]
    }
   ],
   "source": [
    "# Q02\n",
    "prices = {'Banana':[4,6], 'Apple':[2,0], 'Orange':[1.5,32], 'Pear':[3,15]}\n",
    "total = 0 #Create a variable called total and set it to zero\n",
    "for i in prices:\n",
    "    print(i)\n",
    "    print(f'price: {prices[i][0]}')\n",
    "    print(f'stock: {prices[i][1]}')\n",
    "    print(f'Money from selling all food: {prices[i][0]*prices[i][1]}') #For each key in prices, multiply the number in prices by the number in stock\n",
    "    total += prices[i][0]*prices[i][1] #and then add it to total\n",
    "    print()\n",
    "print(f'Total: {total}') #outside your loop, print total"
   ]
  },
  {
   "cell_type": "code",
   "execution_count": 4,
   "id": "6ea3e70a",
   "metadata": {},
   "outputs": [
    {
     "name": "stdout",
     "output_type": "stream",
     "text": [
      "Your total bill is $ 5.5\n"
     ]
    }
   ],
   "source": [
    "# Q03\n",
    "groceries = ['banana', 'orange', 'apple']\n",
    "stock = {\"banana\": 6, \"apple\": 0, \"orange\": 32, \"pear\": 15}\n",
    "prices = {\"banana\": 4, \"apple\": 2, \"orange\": 1.5, \"pear\": 3}\n",
    "def computeBill(food):\n",
    "    total = 0\n",
    "    for i in food:\n",
    "        if stock.get(i) > 0: #While you loop through each item of food, only add the price of the item to total if the item's stock count is greater than zero.\n",
    "            total += prices[i]\n",
    "            stock[i] -= 1 #If the item is in stock and after you add the price to the total, subtract one from the item's stock count.\n",
    "    return total\n",
    "\n",
    "print('Your total bill is $', computeBill(groceries))"
   ]
  },
  {
   "cell_type": "code",
   "execution_count": 5,
   "id": "b3eb7d9d",
   "metadata": {},
   "outputs": [
    {
     "name": "stdout",
     "output_type": "stream",
     "text": [
      "Name: Eren\n",
      "Homework: [90.0, 97.0, 75.0, 92.0]\n",
      "Quizzes: [88.0, 40.0, 94.0]\n",
      "Tests: [75.0, 90.0]\n",
      "\n",
      "Name: Mikasa\n",
      "Homework: [100.0, 92.0, 98.0, 100.0]\n",
      "Quizzes: [82.0, 83.0, 91.0]\n",
      "Tests: [89.0, 97.0]\n",
      "\n",
      "Name: Armin\n",
      "Homework: [0.0, 87.0, 75.0, 22.0]\n",
      "Quizzes: [0.0, 75.0, 78.0]\n",
      "Tests: [100.0, 100.0]\n",
      "\n",
      "Eren's letter grade: C\n",
      "Mikasa's letter grade: C\n",
      "Armin's letter grade: C\n",
      "\n",
      "The class' average (in number): 79.9\n",
      "The class' average (in letter): C\n"
     ]
    }
   ],
   "source": [
    "# Q04\n",
    "eren = {\"name\": \"Eren\", \"homework\": [90.0,97.0,75.0,92.0], \"quizzes\": [88.0,40.0,94.0], \"tests\": [75.0,90.0]}\n",
    "mikasa = {\"name\": \"Mikasa\", \"homework\": [100.0, 92.0, 98.0, 100.0], \"quizzes\": [82.0, 83.0, 91.0], \"tests\": [89.0, 97.0]}\n",
    "armin = {\"name\": \"Armin\", \"homework\": [0.0, 87.0, 75.0, 22.0], \"quizzes\": [0.0, 75.0, 78.0], \"tests\": [100.0, 100.0]}\n",
    "students = ['eren', 'mikasa', 'armin']\n",
    "\n",
    "# to print out students' data\n",
    "for i in students:\n",
    "    print('Name:', eval(i+\"['name']\"))\n",
    "    print('Homework:', eval(i+\"['homework']\"))\n",
    "    print('Quizzes:', eval(i+\"['quizzes']\"))\n",
    "    print('Tests:', eval(i+\"['tests']\"))\n",
    "    print()\n",
    "    \n",
    "# to return the average\n",
    "def average(numbers): #numbers = a list of numbers\n",
    "    total = float(sum(numbers)) / len(numbers)\n",
    "    return total\n",
    "\n",
    "# to return weighted average\n",
    "def getAverage(students): #students is a dictionary\n",
    "    homework = average(eval(i + \"['homework']\")) * 0.1\n",
    "    quizzes = average(eval(i + \"['quizzes']\")) * 0.3\n",
    "    tests = average(eval(i + \"['tests']\")) * 0.6\n",
    "    return homework + quizzes + tests\n",
    "\n",
    "# to return letter grade\n",
    "def getLetterGrade(score): #score is a number\n",
    "    if score >= 90:\n",
    "        return 'A'\n",
    "    elif score >= 80:\n",
    "        return 'B'\n",
    "    elif score >= 70:\n",
    "        return 'C'\n",
    "    elif score >= 60:\n",
    "        return 'D'\n",
    "    else:\n",
    "        return 'F'\n",
    "    \n",
    "# to test the getLetterGrade function\n",
    "print(f\"Eren's letter grade: {getLetterGrade(getAverage('eren'))}\")\n",
    "print(f\"Mikasa's letter grade: {getLetterGrade(getAverage('mikasa'))}\")\n",
    "print(f\"Armin's letter grade: {getLetterGrade(getAverage('armin'))}\")\n",
    "\n",
    "# to get the class's average\n",
    "def getClassAverage(students): #students = a list containing 3 students\n",
    "    results = []\n",
    "    for i in students:\n",
    "        results.append(getAverage(i))\n",
    "    return average(results)\n",
    "\n",
    "print()\n",
    "print(f\"The class' average (in number): {getClassAverage(students)}\")\n",
    "print(f\"The class' average (in letter): {getLetterGrade(getClassAverage(students))}\")"
   ]
  },
  {
   "cell_type": "code",
   "execution_count": null,
   "id": "79e5f1db",
   "metadata": {},
   "outputs": [],
   "source": []
  }
 ],
 "metadata": {
  "kernelspec": {
   "display_name": "Python 3 (ipykernel)",
   "language": "python",
   "name": "python3"
  },
  "language_info": {
   "codemirror_mode": {
    "name": "ipython",
    "version": 3
   },
   "file_extension": ".py",
   "mimetype": "text/x-python",
   "name": "python",
   "nbconvert_exporter": "python",
   "pygments_lexer": "ipython3",
   "version": "3.10.6"
  }
 },
 "nbformat": 4,
 "nbformat_minor": 5
}
